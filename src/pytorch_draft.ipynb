{
  "nbformat": 4,
  "nbformat_minor": 0,
  "metadata": {
    "colab": {
      "name": "pytorch_draft.ipynb",
      "version": "0.3.2",
      "provenance": [],
      "collapsed_sections": []
    },
    "kernelspec": {
      "name": "python3",
      "display_name": "Python 3"
    }
  },
  "cells": [
    {
      "metadata": {
        "id": "r26WdfN-wtwz",
        "colab_type": "code",
        "colab": {
          "base_uri": "https://localhost:8080/",
          "height": 390
        },
        "outputId": "dcc41c8b-7cb4-47ba-b854-d3023cb87846"
      },
      "cell_type": "code",
      "source": [
        "!pip install torch torchtext torchvision"
      ],
      "execution_count": 14,
      "outputs": [
        {
          "output_type": "stream",
          "text": [
            "Requirement already satisfied: torch in /usr/local/lib/python3.6/dist-packages (0.4.1)\r\n",
            "Requirement already satisfied: torchtext in /usr/local/lib/python3.6/dist-packages (0.2.3)\r\n",
            "Collecting torchvision\n",
            "\u001b[?25l  Downloading https://files.pythonhosted.org/packages/ca/0d/f00b2885711e08bd71242ebe7b96561e6f6d01fdb4b9dcf4d37e2e13c5e1/torchvision-0.2.1-py2.py3-none-any.whl (54kB)\n",
            "\u001b[K    100% |████████████████████████████████| 61kB 2.2MB/s \n",
            "\u001b[?25hRequirement already satisfied: requests in /usr/local/lib/python3.6/dist-packages (from torchtext) (2.18.4)\n",
            "Requirement already satisfied: tqdm in /usr/local/lib/python3.6/dist-packages (from torchtext) (4.25.0)\n",
            "Requirement already satisfied: numpy in /usr/local/lib/python3.6/dist-packages (from torchvision) (1.14.5)\n",
            "Collecting pillow>=4.1.1 (from torchvision)\n",
            "\u001b[?25l  Downloading https://files.pythonhosted.org/packages/d1/24/f53ff6b61b3d728b90934bddb4f03f8ab584a7f49299bf3bde56e2952612/Pillow-5.2.0-cp36-cp36m-manylinux1_x86_64.whl (2.0MB)\n",
            "\u001b[K    100% |████████████████████████████████| 2.0MB 7.4MB/s \n",
            "\u001b[?25hRequirement already satisfied: six in /usr/local/lib/python3.6/dist-packages (from torchvision) (1.11.0)\n",
            "Requirement already satisfied: urllib3<1.23,>=1.21.1 in /usr/local/lib/python3.6/dist-packages (from requests->torchtext) (1.22)\n",
            "Requirement already satisfied: idna<2.7,>=2.5 in /usr/local/lib/python3.6/dist-packages (from requests->torchtext) (2.6)\n",
            "Requirement already satisfied: chardet<3.1.0,>=3.0.2 in /usr/local/lib/python3.6/dist-packages (from requests->torchtext) (3.0.4)\n",
            "Requirement already satisfied: certifi>=2017.4.17 in /usr/local/lib/python3.6/dist-packages (from requests->torchtext) (2018.8.24)\n",
            "Installing collected packages: pillow, torchvision\n",
            "  Found existing installation: Pillow 4.0.0\n",
            "    Uninstalling Pillow-4.0.0:\n",
            "      Successfully uninstalled Pillow-4.0.0\n",
            "Successfully installed pillow-5.2.0 torchvision-0.2.1\n"
          ],
          "name": "stdout"
        }
      ]
    },
    {
      "metadata": {
        "id": "EPB7hxUWmLEU",
        "colab_type": "code",
        "colab": {}
      },
      "cell_type": "code",
      "source": [
        "import torch\n",
        "from torch import nn, optim\n",
        "from torch.autograd import Variable\n",
        "from torchtext.vocab import GloVe\n",
        "import torch.nn.functional as f"
      ],
      "execution_count": 0,
      "outputs": []
    },
    {
      "metadata": {
        "id": "r-PBzD9QrA0f",
        "colab_type": "code",
        "colab": {}
      },
      "cell_type": "code",
      "source": [
        "class BaselineQANN(nn.Module):\n",
        "  def __init__(self,emb_dim,dict_size,hidden_dim,ctx_window):\n",
        "    super(BaselineQANN,self).__init__()\n",
        "    self.emb = nn.Embedding(dict_size,emb_dim) # with learning, try the GloVe without learning\n",
        "    self.convolution = nn.Conv2d(emb_dim,hidden_dim,kernel_size=(emb_dim,ctx_window))\n",
        "    self.h_pool = lambda t : self.horizontal_pooling(t)\n",
        "    \n",
        "  def forward(self,q,a):\n",
        "    q_embed = self.emb(q)\n",
        "    a_embed = self.emb(a)\n",
        "    q_enc = F.relu(self.conv(q_embed))\n",
        "    a_enc = F.relu(self.conv(a_embed))\n",
        "    r_q = self.h_pool(q_enc)\n",
        "    r_a = self.h_pool(a_enc)\n",
        "    return f.cosine_similarity(r_q,r_a)\n",
        "  \n",
        "  # given a matrix, does a maxpool operation on the rows\n",
        "  # t.view(t.size(0),-1) = flatten into a 1D tensor each outcome for each input sample\n",
        "  # passing from (n,a,b) to (n,a) dimensions\n",
        "  def horizontal_pooling(t):\n",
        "    return f.max_pool1d(t,t.size(2)).view(t.size(0),-1)\n",
        "    \n",
        "  "
      ],
      "execution_count": 0,
      "outputs": []
    },
    {
      "metadata": {
        "id": "mo_x7Bnl5Sgg",
        "colab_type": "code",
        "colab": {
          "base_uri": "https://localhost:8080/",
          "height": 84
        },
        "outputId": "f97b3d21-dfe7-4183-f9db-e50c0d6f631a"
      },
      "cell_type": "code",
      "source": [
        "model = BaselineQANN(10,400,3,5)\n"
      ],
      "execution_count": 66,
      "outputs": [
        {
          "output_type": "stream",
          "text": [
            "BaselineQANN(\n",
            "  (emb): Embedding(400, 10)\n",
            "  (convolution): Conv2d(10, 3, kernel_size=(10, 5), stride=(1, 1))\n",
            ")\n"
          ],
          "name": "stdout"
        }
      ]
    },
    {
      "metadata": {
        "id": "lv6iztrucbqC",
        "colab_type": "text"
      },
      "cell_type": "markdown",
      "source": [
        "\n",
        "---\n",
        "\n",
        "*Draft snippets*\n",
        "\n",
        "---"
      ]
    },
    {
      "metadata": {
        "id": "nruHT8fI7P62",
        "colab_type": "code",
        "colab": {
          "base_uri": "https://localhost:8080/",
          "height": 420
        },
        "outputId": "ec51c5ac-b786-4937-c3ca-2b0df530c2a4"
      },
      "cell_type": "code",
      "source": [
        "import numpy as np\n",
        "\n",
        "a = np.array([[[1,2,3],[4,5,6],[7,8,9]],[[10,11,12],[13,14,15],[16,17,18]]])\n",
        "a = np.random.rand(5,3,2)\n",
        "print(a)\n",
        "t = torch.from_numpy(a).double()\n",
        "#m = nn.MaxPool2d((1,3))\n",
        "po = f.max_pool1d(t,t.size(2))\n",
        "#torch.cat(tuple(po),dim=1)\n",
        "po.view(t.size(0),-1)"
      ],
      "execution_count": 64,
      "outputs": [
        {
          "output_type": "stream",
          "text": [
            "[[[0.69551586 0.72831495]\n",
            "  [0.97549106 0.44400454]\n",
            "  [0.81144809 0.78331591]]\n",
            "\n",
            " [[0.59097798 0.04503149]\n",
            "  [0.13219984 0.92665085]\n",
            "  [0.01887362 0.70750769]]\n",
            "\n",
            " [[0.08517405 0.55658162]\n",
            "  [0.81597408 0.91718316]\n",
            "  [0.04771517 0.619525  ]]\n",
            "\n",
            " [[0.140437   0.52938635]\n",
            "  [0.41542393 0.5476366 ]\n",
            "  [0.03496714 0.63203588]]\n",
            "\n",
            " [[0.52249022 0.3723957 ]\n",
            "  [0.05802499 0.17635221]\n",
            "  [0.62788537 0.59941839]]]\n"
          ],
          "name": "stdout"
        },
        {
          "output_type": "execute_result",
          "data": {
            "text/plain": [
              "tensor([[0.7283, 0.9755, 0.8114],\n",
              "        [0.5910, 0.9267, 0.7075],\n",
              "        [0.5566, 0.9172, 0.6195],\n",
              "        [0.5294, 0.5476, 0.6320],\n",
              "        [0.5225, 0.1764, 0.6279]], dtype=torch.float64)"
            ]
          },
          "metadata": {
            "tags": []
          },
          "execution_count": 64
        }
      ]
    },
    {
      "metadata": {
        "id": "tL65x3a9W2sm",
        "colab_type": "code",
        "colab": {
          "base_uri": "https://localhost:8080/",
          "height": 1058
        },
        "outputId": "b581df35-08cb-40ad-9601-7c71409f4499"
      },
      "cell_type": "code",
      "source": [
        "from torchvision import datasets,transforms\n",
        "data = datasets.MNIST('.',train=True,download=True,transform= transforms.Compose([transforms.ToTensor(), transforms.Normalize((0.5,), (1.0,))]))\n",
        "m(data[0][0])"
      ],
      "execution_count": 19,
      "outputs": [
        {
          "output_type": "stream",
          "text": [
            "Downloading http://yann.lecun.com/exdb/mnist/train-images-idx3-ubyte.gz\n",
            "Downloading http://yann.lecun.com/exdb/mnist/train-labels-idx1-ubyte.gz\n",
            "Downloading http://yann.lecun.com/exdb/mnist/t10k-images-idx3-ubyte.gz\n",
            "Downloading http://yann.lecun.com/exdb/mnist/t10k-labels-idx1-ubyte.gz\n",
            "Processing...\n",
            "Done!\n"
          ],
          "name": "stdout"
        },
        {
          "output_type": "execute_result",
          "data": {
            "text/plain": [
              "tensor([[[-0.5000, -0.5000, -0.5000, -0.5000, -0.5000, -0.5000, -0.5000,\n",
              "          -0.5000, -0.5000],\n",
              "         [-0.5000, -0.5000, -0.5000, -0.5000, -0.5000, -0.5000, -0.5000,\n",
              "          -0.5000, -0.5000],\n",
              "         [-0.5000, -0.5000, -0.5000, -0.5000, -0.5000, -0.5000, -0.5000,\n",
              "          -0.5000, -0.5000],\n",
              "         [-0.5000, -0.5000, -0.5000, -0.5000, -0.5000, -0.5000, -0.5000,\n",
              "          -0.5000, -0.5000],\n",
              "         [-0.5000, -0.5000, -0.5000, -0.5000, -0.5000, -0.5000, -0.5000,\n",
              "          -0.5000, -0.5000],\n",
              "         [-0.5000, -0.5000, -0.5000, -0.5000, -0.4294,  0.0333,  0.1863,\n",
              "           0.5000, -0.5000],\n",
              "         [-0.5000, -0.5000, -0.3824,  0.1039,  0.4922,  0.4922,  0.4922,\n",
              "           0.4490, -0.5000],\n",
              "         [-0.5000, -0.5000,  0.4333,  0.4922,  0.4922,  0.4922, -0.1353,\n",
              "          -0.2804, -0.5000],\n",
              "         [-0.5000, -0.5000,  0.3588,  0.4922,  0.4922,  0.4686, -0.5000,\n",
              "          -0.5000, -0.5000],\n",
              "         [-0.5000, -0.5000, -0.1863,  0.4922,  0.4922,  0.1039, -0.5000,\n",
              "          -0.5000, -0.5000],\n",
              "         [-0.5000, -0.5000, -0.5000,  0.1039,  0.4922, -0.5000, -0.5000,\n",
              "          -0.5000, -0.5000],\n",
              "         [-0.5000, -0.5000, -0.5000,  0.0451,  0.4922, -0.5000, -0.5000,\n",
              "          -0.5000, -0.5000],\n",
              "         [-0.5000, -0.5000, -0.5000, -0.4569,  0.4922, -0.5000, -0.5000,\n",
              "          -0.5000, -0.5000],\n",
              "         [-0.5000, -0.5000, -0.5000, -0.5000,  0.4451,  0.1275, -0.5000,\n",
              "          -0.5000, -0.5000],\n",
              "         [-0.5000, -0.5000, -0.5000, -0.5000,  0.4412,  0.4922, -0.4020,\n",
              "          -0.5000, -0.5000],\n",
              "         [-0.5000, -0.5000, -0.5000, -0.5000, -0.3235,  0.4922,  0.0882,\n",
              "          -0.5000, -0.5000],\n",
              "         [-0.5000, -0.5000, -0.5000, -0.5000, -0.5000,  0.4882,  0.4922,\n",
              "          -0.5000, -0.5000],\n",
              "         [-0.5000, -0.5000, -0.5000, -0.5000, -0.5000,  0.4765,  0.4922,\n",
              "          -0.5000, -0.5000],\n",
              "         [-0.5000, -0.5000, -0.5000, -0.5000, -0.3196,  0.4922,  0.4922,\n",
              "          -0.5000, -0.5000],\n",
              "         [-0.5000, -0.5000, -0.5000, -0.5000,  0.3980,  0.4922,  0.4804,\n",
              "          -0.5000, -0.5000],\n",
              "         [-0.5000, -0.5000, -0.5000, -0.0529,  0.4922,  0.4922, -0.1941,\n",
              "          -0.5000, -0.5000],\n",
              "         [-0.5000, -0.5000, -0.4098,  0.4922,  0.4922,  0.2765, -0.5000,\n",
              "          -0.5000, -0.5000],\n",
              "         [-0.5000, -0.5000,  0.3588,  0.4922,  0.4922, -0.4647, -0.5000,\n",
              "          -0.5000, -0.5000],\n",
              "         [-0.5000,  0.1745,  0.4922,  0.4922,  0.0216, -0.5000, -0.5000,\n",
              "          -0.5000, -0.5000],\n",
              "         [-0.5000,  0.4922,  0.4922,  0.0294, -0.5000, -0.5000, -0.5000,\n",
              "          -0.5000, -0.5000],\n",
              "         [-0.5000, -0.5000, -0.5000, -0.5000, -0.5000, -0.5000, -0.5000,\n",
              "          -0.5000, -0.5000],\n",
              "         [-0.5000, -0.5000, -0.5000, -0.5000, -0.5000, -0.5000, -0.5000,\n",
              "          -0.5000, -0.5000],\n",
              "         [-0.5000, -0.5000, -0.5000, -0.5000, -0.5000, -0.5000, -0.5000,\n",
              "          -0.5000, -0.5000]]])"
            ]
          },
          "metadata": {
            "tags": []
          },
          "execution_count": 19
        }
      ]
    },
    {
      "metadata": {
        "id": "CdOZYWrDyLOU",
        "colab_type": "code",
        "colab": {
          "base_uri": "https://localhost:8080/",
          "height": 162
        },
        "outputId": "9683ce50-ff0c-4e42-cca0-0be49ca5f044"
      },
      "cell_type": "code",
      "source": [
        "t.size(3)"
      ],
      "execution_count": 25,
      "outputs": [
        {
          "output_type": "error",
          "ename": "RuntimeError",
          "evalue": "ignored",
          "traceback": [
            "\u001b[0;31m---------------------------------------------------------------------------\u001b[0m",
            "\u001b[0;31mRuntimeError\u001b[0m                              Traceback (most recent call last)",
            "\u001b[0;32m<ipython-input-25-2a339c770f9f>\u001b[0m in \u001b[0;36m<module>\u001b[0;34m()\u001b[0m\n\u001b[0;32m----> 1\u001b[0;31m \u001b[0mt\u001b[0m\u001b[0;34m.\u001b[0m\u001b[0msize\u001b[0m\u001b[0;34m(\u001b[0m\u001b[0;36m3\u001b[0m\u001b[0;34m)\u001b[0m\u001b[0;34m\u001b[0m\u001b[0m\n\u001b[0m",
            "\u001b[0;31mRuntimeError\u001b[0m: Dimension out of range (expected to be in range of [-3, 2], but got 3)"
          ]
        }
      ]
    }
  ]
}