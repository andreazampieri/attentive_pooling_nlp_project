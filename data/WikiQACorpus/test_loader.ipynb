{
 "cells": [
  {
   "cell_type": "code",
   "execution_count": 1,
   "metadata": {},
   "outputs": [],
   "source": [
    "import torch\n",
    "import torchtext\n",
    "from torchtext import data\n",
    "from torchtext.vocab import GloVe\n",
    "from torch import nn,optim\n",
    "import torch.nn.functional as f"
   ]
  },
  {
   "cell_type": "code",
   "execution_count": 14,
   "metadata": {},
   "outputs": [],
   "source": [
    "class WikiQA_dataset():\n",
    "    def __init__(self,embedding_dim,batch_size):\n",
    "        self.RAW = data.RawField()\n",
    "        self.TEXT = data.Field(batch_first=True,\n",
    "                               lower=True)\n",
    "        self.LABEL = data.Field(sequential=False,\n",
    "                                unk_token=None)\n",
    "    \n",
    "        \n",
    "        self.train, self.dev, self.test = data.TabularDataset.splits(\n",
    "            path='.',\n",
    "            train='WikiQA-train.tsv',\n",
    "            validation='WikiQA-dev.tsv',\n",
    "            test='WikiQA-test.tsv',\n",
    "            format='tsv',\n",
    "            fields=[('qid', self.RAW),\n",
    "                    ('question', self.TEXT),\n",
    "                    ('docid', self.RAW),\n",
    "                    ('doctitle', self.RAW),\n",
    "                    ('sentenceid',self.RAW),\n",
    "                    ('sentence',self.TEXT),\n",
    "                    ('label',self.LABEL)])\n",
    "        \n",
    "        self.TEXT.build_vocab(self.train, self.dev, self.test, \\\n",
    "                              vectors=GloVe(name='6B', dim=embedding_dim), \\\n",
    "                              unk_init=torch.zeros((1, embedding_dim)).uniform_(-0.25, 0.25))\n",
    "        \n",
    "        self.LABEL.build_vocab(self.train)\n",
    "        \n",
    "        self.train_iter, self.dev_iter, self.test_iter = \\\n",
    "            data.Iterator.splits((self.train, self.dev, self.test),\n",
    "                                 batch_sizes=[batch_size] * 3,\n",
    "                                 shuffle=True)\n",
    "        \n",
    "        \n",
    "        "
   ]
  },
  {
   "cell_type": "code",
   "execution_count": 15,
   "metadata": {},
   "outputs": [],
   "source": [
    "d = WikiQA_dataset(20,20)"
   ]
  }
 ],
 "metadata": {
  "kernelspec": {
   "display_name": "Python 3",
   "language": "python",
   "name": "python3"
  },
  "language_info": {
   "codemirror_mode": {
    "name": "ipython",
    "version": 3
   },
   "file_extension": ".py",
   "mimetype": "text/x-python",
   "name": "python",
   "nbconvert_exporter": "python",
   "pygments_lexer": "ipython3",
   "version": "3.6.0"
  }
 },
 "nbformat": 4,
 "nbformat_minor": 2
}
